{
 "cells": [
  {
   "cell_type": "code",
   "execution_count": 7,
   "metadata": {},
   "outputs": [],
   "source": [
    "import numpy as np\n",
    "\n",
    "# Reduce displayed waveforms to avoid display freezes\n",
    "CSI_VAID_SUBCARRIER_INTERVAL = 1\n",
    "\n",
    "csi_vaid_subcarrier_index = []\n",
    "csi_vaid_subcarrier_color = []\n",
    "color_step = 255 // (28 // CSI_VAID_SUBCARRIER_INTERVAL + 1)\n",
    "color_step_57 = 255 // (57 // CSI_VAID_SUBCARRIER_INTERVAL + 1)\n",
    "\n",
    "csi_vaid_subcarrier_index += [i for i in range(0, 28, CSI_VAID_SUBCARRIER_INTERVAL)]    \n",
    "csi_vaid_subcarrier_color += [(i * color_step, 0, 0) for i in range(1,  28 // CSI_VAID_SUBCARRIER_INTERVAL + 1)]\n",
    "\n",
    "csi_vaid_subcarrier_index += [i for i in range(28, 29, CSI_VAID_SUBCARRIER_INTERVAL)]    \n",
    "csi_vaid_subcarrier_color += [(255, 255, 255) for i in range(1,  1 // CSI_VAID_SUBCARRIER_INTERVAL + 1)]\n",
    "\n",
    "csi_vaid_subcarrier_index += [i for i in range(29, 57, CSI_VAID_SUBCARRIER_INTERVAL)]   \n",
    "csi_vaid_subcarrier_color += [(0, i * color_step, 0) for i in range(1,  28 // CSI_VAID_SUBCARRIER_INTERVAL + 1)]\n",
    "CSI_DATA_114_COLUMNS = len(csi_vaid_subcarrier_index)\n",
    "\n",
    "csi_vaid_subcarrier_index += [i for i in range(57, 60, CSI_VAID_SUBCARRIER_INTERVAL)]   \n",
    "csi_vaid_subcarrier_color += [(255, 255, 255)] * 3  \n",
    "\n",
    "csi_vaid_subcarrier_index += [i for i in range(60, 117, CSI_VAID_SUBCARRIER_INTERVAL)]    \n",
    "csi_vaid_subcarrier_color += [(0, 0, i * color_step_57) for i in range(1,  57 // CSI_VAID_SUBCARRIER_INTERVAL + 1)]\n",
    "CSI_DATA_234_COLUMNS = len(csi_vaid_subcarrier_index)\n",
    "\n",
    "CSI_DATA_COLUMNS = len(csi_vaid_subcarrier_index)\n",
    "DATA_COLUMNS_NAMES = [\"type\", \"id\", \"mac\", \"rssi\", \"rate\",\"noise_floor\",\"fft_gain\",\"agc_gain\", \"channel\", \"local_timestamp\",  \"sig_len\", \"rx_state\", \"len\", \"first_word\", \"data\"]"
   ]
  },
  {
   "cell_type": "code",
   "execution_count": null,
   "metadata": {},
   "outputs": [
    {
     "name": "stdout",
     "output_type": "stream",
     "text": [
      "Processing File: ESP/test.csv\n",
      "Data Sub: 234\n",
      "[[ -9. +3.j  -8. +4.j -10. +4.j ...   5.+14.j   4.+13.j   6.+14.j]\n",
      " [ -6. +3.j  -7. +3.j  -8. +3.j ...  13. -6.j  13. -6.j  12. -7.j]\n",
      " [ -6. +0.j  -5. +0.j  -6. +0.j ...   3.-12.j   3.-13.j   1.-12.j]\n",
      " ...\n",
      " [  1.+11.j   1.+10.j   2.+13.j ...   4. -7.j   2. -7.j   2. -6.j]\n",
      " [ 11. +0.j  12. +1.j  11. +0.j ...  -1. -5.j   0. -7.j   0. -7.j]\n",
      " [  3.+11.j   4.+11.j   3.+11.j ...   2. +7.j   1. +9.j   2. +7.j]]\n",
      "(1679, 117)\n"
     ]
    }
   ],
   "source": [
    "filepath = 'YOUR CSI File Path(.csv)'\n",
    "import pandas as pd\n",
    "import os\n",
    "import ast\n",
    "from tqdm import tqdm\n",
    "\n",
    "print('Processing File:',filepath)\n",
    "df = pd.read_csv(filepath)\n",
    "csi = df['data']\n",
    "\n",
    "row = 0\n",
    "for csi_raw_data in csi:\n",
    "    csi_raw_data = ast.literal_eval(csi_raw_data)\n",
    "    if len(csi_raw_data) == 106:\n",
    "        continue\n",
    "        csi_vaid_subcarrier_len = CSI_DATA_106_COLUMNS\n",
    "    elif  len(csi_raw_data) == 114:\n",
    "        csi_vaid_subcarrier_len = CSI_DATA_114_COLUMNS\n",
    "    elif  len(csi_raw_data) == 128 :\n",
    "        continue\n",
    "        csi_vaid_subcarrier_len = CSI_DATA_LLFT_COLUMNS\n",
    "    elif  len(csi_raw_data) == 234 :\n",
    "        csi_vaid_subcarrier_len = CSI_DATA_234_COLUMNS\n",
    "    else :\n",
    "        csi_vaid_subcarrier_len = CSI_DATA_COLUMNS\n",
    "    if row == 0:\n",
    "        print('Data Sub:',len(csi_raw_data))\n",
    "        csi_complex_data = np.zeros((len(csi), csi_vaid_subcarrier_len), dtype=complex)\n",
    "    for i in range(csi_vaid_subcarrier_len):\n",
    "        data = complex(csi_raw_data[csi_vaid_subcarrier_index[i] * 2 + 1],\n",
    "                        csi_raw_data[csi_vaid_subcarrier_index[i] * 2])\n",
    "        csi_complex_data[row,i] = data\n",
    "    row += 1\n",
    "\n",
    "print(csi_complex_data)\n",
    "# CSI shape: (samples, subcarriers)\n",
    "print(csi_complex_data.shape)"
   ]
  }
 ],
 "metadata": {
  "kernelspec": {
   "display_name": "base",
   "language": "python",
   "name": "python3"
  },
  "language_info": {
   "codemirror_mode": {
    "name": "ipython",
    "version": 3
   },
   "file_extension": ".py",
   "mimetype": "text/x-python",
   "name": "python",
   "nbconvert_exporter": "python",
   "pygments_lexer": "ipython3",
   "version": "3.12.4"
  }
 },
 "nbformat": 4,
 "nbformat_minor": 2
}
